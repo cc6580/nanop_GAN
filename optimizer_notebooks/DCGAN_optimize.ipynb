{
 "cells": [
  {
   "cell_type": "code",
   "execution_count": null,
   "metadata": {},
   "outputs": [],
   "source": [
    "import argparse\n",
    "import os\n",
    "import numpy as np\n",
    "import math\n",
    "import matplotlib.pyplot as plt\n",
    "\n",
    "import torchvision.transforms as transforms\n",
    "from torchvision import transforms\n",
    "from torchvision.utils import save_image\n",
    "import torchvision\n",
    "\n",
    "from torch.utils.data import DataLoader\n",
    "from torchvision import datasets\n",
    "from torch.autograd import Variable\n",
    "\n",
    "import torch.nn as nn\n",
    "import torch.nn.functional as F\n",
    "import torch\n",
    "\n",
    "from pytorch_pretrained_biggan import (BigGAN, one_hot_from_names, truncated_noise_sample,\n",
    "                                       save_as_images, display_in_terminal)\n",
    "\n",
    "import pylab\n",
    "import sys\n",
    "\n",
    "sys.path.insert(0,'gan-vae-pretrained-pytorch/cifar100_dcgan_grayscale/') # So we can import point_density_functions from parent directory\n",
    "from dcgan import Discriminator, Generator\n",
    "\n",
    "%load_ext autoreload\n",
    "%autoreload 2"
   ]
  },
  {
   "cell_type": "code",
   "execution_count": null,
   "metadata": {},
   "outputs": [],
   "source": [
    "# Functions for optimizing the gradient\n",
    "def grad_loop(im,x,generator,optimizer,scheduler=None,n_epochs=10000,epsilon = 1):\n",
    "    '''\n",
    "    grad_loop finds the nearest image to im in the range of generator, \n",
    "    returns the loss curve and the generated image. \n",
    "    '''\n",
    "    loss_list = []\n",
    "    \n",
    "    for epoch in range(n_epochs):\n",
    "\n",
    "        optimizer.zero_grad()\n",
    "\n",
    "        im_g = generator(torch.clamp(x,-5,5))\n",
    "\n",
    "        loss = F.mse_loss(im_g,im,reduction = 'sum') / (im.size(0)*im.size(1))\n",
    "        loss.backward(retain_graph=True)\n",
    "        optimizer.step()\n",
    "        if scheduler:\n",
    "            scheduler.step()\n",
    "        if epoch % 100 == 0:\n",
    "            loss_list.append(loss.item())\n",
    "            print(\"Epoch {}\\t Loss: {:2.4f}\".format(epoch,loss))\n",
    "        if loss < epsilon:\n",
    "            break\n",
    "#     print(\"X max: \",x.max())\n",
    "#     print(\"X min: \",x.min())\n",
    "    return loss_list, im_g, x"
   ]
  },
  {
   "cell_type": "code",
   "execution_count": null,
   "metadata": {},
   "outputs": [],
   "source": [
    "def convergence_loop(op_list,lr_list,generator,x_keep,im,n_epochs=10000):\n",
    "    '''\n",
    "    convergence_loop compares learning rates and optimizers for on the grad_loop function.\n",
    "    '''\n",
    "    # Optimizer comparison loop\n",
    "    loss_dict = {}\n",
    "    for op in op_list:\n",
    "        for lr in lr_list:\n",
    "            x = x_keep.clone().requires_grad_()\n",
    "            optimizer = op([x],lr=lr)\n",
    "            dict_key = str(op)[-6:]+'_'+str(lr)\n",
    "            loss_list,_,_ = grad_loop(im,x,generator,optimizer,n_epochs=n_epochs)\n",
    "            loss_dict[dict_key] = loss_list\n",
    "            print(\"Opt: {}\\tLR: {} Done\".format(op,lr))\n",
    "    plt.figure(figsize=[12,12])\n",
    "    for k in loss_dict.keys():\n",
    "        plt.plot(loss_dict[k],label=str(k))\n",
    "    plt.legend(loc='upper right',fontsize=15)\n",
    "    return loss_dict\n",
    "\n",
    "def plot_loss_curve(loss_dict,title,keys=None):\n",
    "    # Given a loss_dict where the optimizer name and LR are the key, plots the learning curves\n",
    "    if keys == None:\n",
    "        keys = loss_dict.keys()\n",
    "    plt.figure(figsize=[15,9])\n",
    "    for k in keys:\n",
    "        plt.plot(np.arange(0,100*len(loss_dict[k]),100),loss_dict[k],label=str(k))\n",
    "    plt.legend(loc='upper right',fontsize=15)\n",
    "    plt.ylabel(\"MSE Loss per pixel\",fontsize=12)\n",
    "    plt.xlabel(\"Epoch\",fontsize=12)\n",
    "    plt.title(title,fontsize=12)\n",
    "    plt.xticks(fontsize=12)\n",
    "    plt.yticks(fontsize=12)\n",
    "    \n",
    "# im is the target\n",
    "def plot_img(im,grayscale=True):\n",
    "    if im.min() < 0:\n",
    "        im = im*0.5 + 0.5\n",
    "    if grayscale:\n",
    "        plt.imshow(im.detach().to('cpu')[0,0],cmap='gray')\n",
    "    else:\n",
    "        plt.imshow(im[0,:,:,:].detach().to('cpu').permute(1,2,0))"
   ]
  },
  {
   "cell_type": "markdown",
   "metadata": {},
   "source": [
    "## DCGAN Grayscale/CIFAR100"
   ]
  },
  {
   "cell_type": "code",
   "execution_count": null,
   "metadata": {},
   "outputs": [],
   "source": [
    "os.makedirs(\"images\", exist_ok=True)\n",
    "\n",
    "class Args(object):\n",
    "    def __init__(self):\n",
    "        self.n_epochs = 200\n",
    "        self.batch_size = 64\n",
    "        self.lr = .002\n",
    "        self.b1 = 0.5\n",
    "        self.b2 = 0.999\n",
    "        self.n_cpu = 8\n",
    "        self.latent_dim = 100\n",
    "        self.img_size = 32\n",
    "        self.channels = 3\n",
    "        self.sample_interval = 400\n",
    "        self.batch_size = 32\n",
    "        self.dataroot = 'cifar10'\n",
    "        self.image_size = 32\n",
    "        self.grayscale = True\n",
    "\n",
    "opt=Args()\n",
    "\n",
    "cuda = True if torch.cuda.is_available() else False\n",
    "Tensor = torch.cuda.FloatTensor if cuda else torch.FloatTensor\n",
    "num_gpu = 1 if torch.cuda.is_available() else 0"
   ]
  },
  {
   "cell_type": "code",
   "execution_count": null,
   "metadata": {},
   "outputs": [],
   "source": [
    "# load the models\n",
    "from dcgan import Generator\n",
    "\n",
    "if opt.grayscale:\n",
    "    generator = Generator(ngpu=1,nc=1).eval()\n",
    "    # load weights\n",
    "    generator.load_state_dict(torch.load('gan-vae-pretrained-pytorch/cifar100_dcgan_grayscale/models/netG_epoch_999.pth'))\n",
    "else:\n",
    "    generator = Generator(ngpu=1,nc=3).eval()\n",
    "    # load weights\n",
    "    generator.load_state_dict(torch.load('gan-vae-pretrained-pytorch/cifar100_dcgan_grayscale/models/netG_rgb_epoch_999.pth'))\n",
    "    \n",
    "if torch.cuda.is_available():\n",
    "    generator = generator.cuda()\n",
    "\n",
    "# Freeze the model\n",
    "for param in generator.parameters():\n",
    "    param.requires_grad = False"
   ]
  },
  {
   "cell_type": "markdown",
   "metadata": {},
   "source": [
    "### Test 1: Find im that is in latent space"
   ]
  },
  {
   "cell_type": "code",
   "execution_count": null,
   "metadata": {
    "scrolled": false
   },
   "outputs": [],
   "source": [
    "# Initialize z, the target latent vector \n",
    "z = Variable(torch.randn(1, opt.latent_dim))\n",
    "# Initialize x, the initial latent vector\n",
    "x_keep = Variable(Tensor(np.random.normal(0, 1, (1, opt.latent_dim))),requires_grad=False)\n",
    "\n",
    "# Generate im, the target image\n",
    "im = generator(z.unsqueeze(2).unsqueeze(2).to('cuda'))\n",
    "plot_img(im,opt.grayscale)"
   ]
  },
  {
   "cell_type": "code",
   "execution_count": null,
   "metadata": {},
   "outputs": [],
   "source": [
    "# Generate im_first, the initial guess image\n",
    "with torch.no_grad():\n",
    "    im_first = generator(x_keep.unsqueeze(2).unsqueeze(2).to('cuda'))\n",
    "    plot_img(im_first,opt.grayscale)"
   ]
  },
  {
   "cell_type": "code",
   "execution_count": null,
   "metadata": {},
   "outputs": [],
   "source": [
    "# after optimizing\n",
    "with torch.no_grad():\n",
    "    plot_img(im_g,False)"
   ]
  },
  {
   "cell_type": "markdown",
   "metadata": {},
   "source": [
    "#### Optimize once with grad loop"
   ]
  },
  {
   "cell_type": "code",
   "execution_count": null,
   "metadata": {},
   "outputs": [],
   "source": [
    "# Optimize once, given optimizer parameters\n",
    "x = x_keep.clone().requires_grad_()"
   ]
  },
  {
   "cell_type": "code",
   "execution_count": null,
   "metadata": {},
   "outputs": [],
   "source": [
    "optimizer = torch.optim.SGD([x],lr=0.01)\n",
    "loss_list, im_g,x_out = grad_loop(im,x.unsqueeze(2).unsqueeze(2).to('cuda'),\n",
    "                            generator,optimizer,scheduler=None,n_epochs=100000,epsilon = .01)"
   ]
  },
  {
   "cell_type": "code",
   "execution_count": null,
   "metadata": {},
   "outputs": [],
   "source": [
    "# Latent vector norm\n",
    "print(\"Latent norm initial: \",torch.norm(x_keep-z.to('cuda')))\n",
    "print(\"Latent norm final: \",torch.norm(x_out[:,:,0,0]-z.to('cuda')))"
   ]
  },
  {
   "cell_type": "markdown",
   "metadata": {},
   "source": [
    "#### Plot loss curves for different optimizers"
   ]
  },
  {
   "cell_type": "code",
   "execution_count": null,
   "metadata": {},
   "outputs": [],
   "source": [
    "op_list = [torch.optim.SGD,torch.optim.Adam]\n",
    "lr_list = [1e-5,1e-4,1e-3,1e-2]\n",
    "loss_dict = convergence_loop(op_list,lr_list,generator,x.unsqueeze(2).unsqueeze(2),im)"
   ]
  },
  {
   "cell_type": "code",
   "execution_count": null,
   "metadata": {},
   "outputs": [],
   "source": [
    "plot_loss_curve(loss_dict,title='Learning curves for DCGAN on image in training set')"
   ]
  },
  {
   "cell_type": "code",
   "execution_count": null,
   "metadata": {},
   "outputs": [],
   "source": [
    "# Compare loss across optimzers at a given epoch\n",
    "for k in loss_dict.keys():\n",
    "    print(k,\": \",loss_dict[k][5])"
   ]
  },
  {
   "cell_type": "markdown",
   "metadata": {},
   "source": [
    "### TEST 2: Find im not in the latent space"
   ]
  },
  {
   "cell_type": "code",
   "execution_count": null,
   "metadata": {},
   "outputs": [],
   "source": [
    "# Load the data\n",
    "\n",
    "if opt.grayscale:\n",
    "    dataset = datasets.CIFAR100(root=opt.dataroot, download=True,\n",
    "                       transform=transforms.Compose([\n",
    "                           transforms.Grayscale(),\n",
    "                           transforms.Resize(opt.image_size),\n",
    "                           transforms.ToTensor(),\n",
    "                           transforms.Normalize((0.5), (0.5)),\n",
    "                       ]))\n",
    "else: \n",
    "    dataset = datasets.CIFAR100(root=opt.dataroot, download=True,\n",
    "                       transform=transforms.Compose([\n",
    "                           # transforms.Grayscale(),\n",
    "                           transforms.Resize(opt.image_size),\n",
    "                           transforms.ToTensor(),\n",
    "                           transforms.Normalize((0.5,0.5,0.5), (0.5,0.5,0.5)),\n",
    "                       ]))\n",
    "assert dataset\n",
    "dataloader = torch.utils.data.DataLoader(dataset, batch_size=1,\n",
    "                                         shuffle=True, num_workers=1)"
   ]
  },
  {
   "cell_type": "code",
   "execution_count": null,
   "metadata": {},
   "outputs": [],
   "source": [
    "# Initialize x, the initial latent vector\n",
    "x_keep = Variable(Tensor(np.random.normal(0, 1, (1, opt.latent_dim))),requires_grad=False)\n",
    "\n",
    "# Generate im, the target image\n",
    "im,label = next(iter(dataloader))\n",
    "im = im.to('cuda')\n",
    "plot_img(im,opt.grayscale)"
   ]
  },
  {
   "cell_type": "code",
   "execution_count": null,
   "metadata": {},
   "outputs": [],
   "source": [
    "# Generate im_first, the initial guess image\n",
    "with torch.no_grad():\n",
    "    im_first = generator(x_keep.unsqueeze(2).unsqueeze(2).to('cuda'))\n",
    "    plot_img(im_first,opt.grayscale)"
   ]
  },
  {
   "cell_type": "code",
   "execution_count": null,
   "metadata": {
    "scrolled": true
   },
   "outputs": [],
   "source": [
    "# after optimizing\n",
    "with torch.no_grad():\n",
    "    plot_img(im_g,opt.grayscale)"
   ]
  },
  {
   "cell_type": "markdown",
   "metadata": {},
   "source": [
    "#### Plot loss curves for different optimizers"
   ]
  },
  {
   "cell_type": "code",
   "execution_count": null,
   "metadata": {},
   "outputs": [],
   "source": [
    "op_list = [torch.optim.SGD,torch.optim.Adam,torch.optim.AdamW,torch.optim.ASGD]\n",
    "lr_list = [1e-4,1e-3,1e-2]\n",
    "loss_dict = convergence_loop(op_list,lr_list,generator,x.unsqueeze(2).unsqueeze(2),im,n_epochs=100)"
   ]
  },
  {
   "cell_type": "code",
   "execution_count": null,
   "metadata": {},
   "outputs": [],
   "source": [
    "plot_loss_curve(loss_dict,title='Learning curves for DCGAN on image in training set')"
   ]
  },
  {
   "cell_type": "code",
   "execution_count": null,
   "metadata": {},
   "outputs": [],
   "source": [
    "# Compare loss across optimzers at a given epoch\n",
    "for k in loss_dict.keys():\n",
    "    print(k,\": {:2.4f}\".format(loss_dict[k][5]))"
   ]
  },
  {
   "cell_type": "markdown",
   "metadata": {},
   "source": [
    "#### Optimize once with grad loop"
   ]
  },
  {
   "cell_type": "code",
   "execution_count": null,
   "metadata": {},
   "outputs": [],
   "source": [
    "# Optimize once, given optimizer parameters\n",
    "x = x_keep.clone().requires_grad_()\n",
    "optimizer = torch.optim.SGD([x],lr=0.01)\n",
    "scheduler = torch.optim.lr_scheduler.MultiStepLR(optimizer, milestones=[5000,10000,20000,40000], gamma=0.5)"
   ]
  },
  {
   "cell_type": "code",
   "execution_count": null,
   "metadata": {},
   "outputs": [],
   "source": [
    "loss_list, im_g, x_out = grad_loop(im,x.unsqueeze(2).unsqueeze(2).to('cuda'),\n",
    "                            generator,optimizer,scheduler=scheduler,n_epochs=50000,epsilon = .01)"
   ]
  },
  {
   "cell_type": "code",
   "execution_count": null,
   "metadata": {},
   "outputs": [],
   "source": [
    "plot_img(im_g,opt.grayscale)"
   ]
  },
  {
   "cell_type": "markdown",
   "metadata": {},
   "source": [
    "## DCGAN MNIST"
   ]
  },
  {
   "cell_type": "code",
   "execution_count": null,
   "metadata": {},
   "outputs": [],
   "source": [
    "def weights_init_normal(m):\n",
    "    classname = m.__class__.__name__\n",
    "    if classname.find(\"Conv\") != -1:\n",
    "        torch.nn.init.normal_(m.weight.data, 0.0, 0.02)\n",
    "    elif classname.find(\"BatchNorm2d\") != -1:\n",
    "        torch.nn.init.normal_(m.weight.data, 1.0, 0.02)\n",
    "        torch.nn.init.constant_(m.bias.data, 0.0)\n",
    "\n",
    "\n",
    "class Generator(nn.Module):\n",
    "    def __init__(self):\n",
    "        super(Generator, self).__init__()\n",
    "\n",
    "        self.init_size = opt.img_size // 4\n",
    "        self.l1 = nn.Sequential(nn.Linear(opt.latent_dim, 128 * self.init_size ** 2))\n",
    "\n",
    "        self.conv_blocks = nn.Sequential(\n",
    "            nn.BatchNorm2d(128),\n",
    "            nn.Upsample(scale_factor=2),\n",
    "            nn.Conv2d(128, 128, 3, stride=1, padding=1),\n",
    "            nn.BatchNorm2d(128, 0.8),\n",
    "            nn.LeakyReLU(0.2, inplace=True),\n",
    "            nn.Upsample(scale_factor=2),\n",
    "            nn.Conv2d(128, 64, 3, stride=1, padding=1),\n",
    "            nn.BatchNorm2d(64, 0.8),\n",
    "            nn.LeakyReLU(0.2, inplace=True),\n",
    "            nn.Conv2d(64, opt.channels, 3, stride=1, padding=1),\n",
    "            nn.Tanh(),\n",
    "        )\n",
    "\n",
    "    def forward(self, z):\n",
    "        out = self.l1(z)\n",
    "        out = out.view(out.shape[0], 128, self.init_size, self.init_size)\n",
    "        img = self.conv_blocks(out)\n",
    "        return img\n",
    "\n",
    "\n",
    "class Discriminator(nn.Module):\n",
    "    def __init__(self):\n",
    "        super(Discriminator, self).__init__()\n",
    "\n",
    "        def discriminator_block(in_filters, out_filters, bn=True):\n",
    "            block = [nn.Conv2d(in_filters, out_filters, 3, 2, 1), nn.LeakyReLU(0.2, inplace=True), nn.Dropout2d(0.25)]\n",
    "            if bn:\n",
    "                block.append(nn.BatchNorm2d(out_filters, 0.8))\n",
    "            return block\n",
    "\n",
    "        self.model = nn.Sequential(\n",
    "            *discriminator_block(opt.channels, 16, bn=False),\n",
    "            *discriminator_block(16, 32),\n",
    "            *discriminator_block(32, 64),\n",
    "            *discriminator_block(64, 128),\n",
    "        )\n",
    "\n",
    "        # The height and width of downsampled image\n",
    "        ds_size = opt.img_size // 2 ** 4\n",
    "        self.adv_layer = nn.Sequential(nn.Linear(128 * ds_size ** 2, 1), nn.Sigmoid())\n",
    "\n",
    "    def forward(self, img):\n",
    "        out = self.model(img)\n",
    "        out = out.view(out.shape[0], -1)\n",
    "        validity = self.adv_layer(out)\n",
    "\n",
    "        return validity"
   ]
  },
  {
   "cell_type": "code",
   "execution_count": null,
   "metadata": {},
   "outputs": [],
   "source": [
    "os.makedirs(\"images\", exist_ok=True)\n",
    "\n",
    "class Args(object):\n",
    "    def __init__(self):\n",
    "        self.n_epochs = 200\n",
    "        self.batch_size = 64\n",
    "        self.lr = .002\n",
    "        self.b1 = 0.5\n",
    "        self.b2 = 0.999\n",
    "        self.n_cpu = 8\n",
    "        self.latent_dim = 100\n",
    "        self.img_size = 32\n",
    "        self.channels = 3\n",
    "        self.sample_interval = 400\n",
    "        self.batch_size = 32\n",
    "\n",
    "opt=Args()\n",
    "\n",
    "cuda = True if torch.cuda.is_available() else False\n",
    "Tensor = torch.cuda.FloatTensor if cuda else torch.FloatTensor"
   ]
  },
  {
   "cell_type": "markdown",
   "metadata": {},
   "source": [
    "### Optimizer Test\n",
    "Process: \n",
    "1) Select an image that is in the manifold of generator, and its random vector\n",
    "2) Generate a random latent vector input, z.\n",
    "3) Optimize that vector z to minimize $\\|G(z) - im \\|_2^2$\n"
   ]
  },
  {
   "cell_type": "code",
   "execution_count": null,
   "metadata": {},
   "outputs": [],
   "source": [
    "cuda = True if torch.cuda.is_available() else False\n",
    "Tensor = torch.cuda.FloatTensor if cuda else torch.FloatTensor"
   ]
  },
  {
   "cell_type": "code",
   "execution_count": null,
   "metadata": {},
   "outputs": [],
   "source": [
    "class OptimizerArgs(object):\n",
    "    def __init__(self):\n",
    "        self.n_epochs = 2000\n",
    "        self.lr = .00005\n",
    "        self.epsilon = 1e-2\n",
    "opt2=OptimizerArgs()"
   ]
  },
  {
   "cell_type": "code",
   "execution_count": null,
   "metadata": {},
   "outputs": [],
   "source": [
    "# Load generator\n",
    "MODEL_PATH = \"models/dcgan/generator_cifar10.pth\"\n",
    "generator = Generator()\n",
    "generator.load_state_dict(torch.load(MODEL_PATH))\n",
    "generator.cuda()"
   ]
  },
  {
   "cell_type": "code",
   "execution_count": null,
   "metadata": {},
   "outputs": [],
   "source": [
    "z = Variable(Tensor(np.random.normal(0, 1, (1, opt.latent_dim))))"
   ]
  },
  {
   "cell_type": "code",
   "execution_count": null,
   "metadata": {},
   "outputs": [],
   "source": [
    "z"
   ]
  },
  {
   "cell_type": "code",
   "execution_count": null,
   "metadata": {},
   "outputs": [],
   "source": [
    "# Initialize random vector\n",
    "x_keep = Variable(Tensor(np.random.normal(0, 1, (1, opt.latent_dim))),requires_grad=False)\n",
    "\n",
    "# optimizer = torch.optim.SGD([x],lr = opt2.lr)\n",
    "# scheduler = torch.optim.lr_scheduler.MultiStepLR(optimizer, milestones=[10000,20000], gamma=0.5)\n",
    "\n",
    "# Freeze the model\n",
    "for param in generator.parameters():\n",
    "    param.requires_grad = False"
   ]
  },
  {
   "cell_type": "code",
   "execution_count": null,
   "metadata": {},
   "outputs": [],
   "source": [
    "# Initial guess\n",
    "# im is the target\n",
    "with torch.no_grad():\n",
    "    im_first = generator(x_keep.to('cuda'))\n",
    "    plot_img(im_first,True)"
   ]
  },
  {
   "cell_type": "code",
   "execution_count": null,
   "metadata": {},
   "outputs": [],
   "source": [
    "# after optimizing\n",
    "with torch.no_grad():\n",
    "    plot_img(im_g,True)"
   ]
  },
  {
   "cell_type": "code",
   "execution_count": null,
   "metadata": {},
   "outputs": [],
   "source": [
    "# Optimize once, given optimizer parameters\n",
    "x = x_keep.clone().requires_grad_()\n",
    "optimizer = torch.optim.SGD([x],lr=0.01)\n",
    "loss_list, im_g = grad_loop(im,x,generator,optimizer,scheduler=None,n_epochs=10000,epsilon = .01)"
   ]
  },
  {
   "cell_type": "markdown",
   "metadata": {},
   "source": [
    "#### Plot loss curves for different optimizers"
   ]
  },
  {
   "cell_type": "code",
   "execution_count": null,
   "metadata": {},
   "outputs": [],
   "source": [
    "op_list = [torch.optim.SGD,torch.optim.Adam]\n",
    "lr_list = [1e-5,1e-4,1e-3,1e-2]\n",
    "loss_dict = convergence_loop(op_list,lr_list,generator,x_keep,im)"
   ]
  },
  {
   "cell_type": "code",
   "execution_count": null,
   "metadata": {},
   "outputs": [],
   "source": [
    "plot_loss_curve(loss_dict,title='Learning curves for DCGAN on image in training set')"
   ]
  },
  {
   "cell_type": "code",
   "execution_count": null,
   "metadata": {},
   "outputs": [],
   "source": [
    "# Compare loss across optimzers at a given epoch\n",
    "for k in loss_dict.keys():\n",
    "    print(k,\": \",loss_dict[k][5])"
   ]
  },
  {
   "cell_type": "markdown",
   "metadata": {},
   "source": [
    "# BigGAN Test"
   ]
  },
  {
   "cell_type": "code",
   "execution_count": null,
   "metadata": {},
   "outputs": [],
   "source": [
    "from pytorch_pretrained_biggan import (BigGAN, one_hot_from_names, truncated_noise_sample,\n",
    "                                       save_as_images, display_in_terminal)\n",
    "\n",
    "# Load pre-trained model tokenizer (vocabulary)\n",
    "model = BigGAN.from_pretrained('biggan-deep-128')\n",
    "\n",
    "# Prepare a input\n",
    "truncation = 0.4\n",
    "class_vector = one_hot_from_names(['koala'], batch_size=1)\n",
    "z = truncated_noise_sample(truncation=truncation, batch_size=1)\n",
    "\n",
    "# All in tensors\n",
    "z = torch.from_numpy(z)\n",
    "class_vector = torch.from_numpy(class_vector)\n",
    "\n",
    "# If you have a GPU, put everything on cuda\n",
    "z = z.to('cuda')\n",
    "class_vector = class_vector.to('cuda')\n",
    "model.to('cuda')\n",
    "\n",
    "# Freeze the model\n",
    "for param in model.parameters():\n",
    "    param.requires_grad = False\n",
    "\n",
    "def bigGAN_wrapper(noise_vector,class_vector=class_vector,model=model):\n",
    "    # Generate an image\n",
    "    im = model(noise_vector, class_vector, truncation)\n",
    "    im.to('cpu')\n",
    "    return im"
   ]
  },
  {
   "cell_type": "code",
   "execution_count": null,
   "metadata": {},
   "outputs": [],
   "source": [
    "im = bigGAN_wrapper(z)\n",
    "plt.imshow(im.to('cpu')[0].permute(1,2,0))"
   ]
  },
  {
   "cell_type": "code",
   "execution_count": null,
   "metadata": {},
   "outputs": [],
   "source": [
    "# Initialize random vector\n",
    "x_keep = truncated_noise_sample(truncation=truncation, batch_size=1)\n",
    "# All in tensors\n",
    "x_keep = torch.from_numpy(x_keep).to('cuda')"
   ]
  },
  {
   "cell_type": "code",
   "execution_count": null,
   "metadata": {},
   "outputs": [],
   "source": [
    "with torch.no_grad():\n",
    "    plt.imshow(model(x_keep,class_vector,truncation).to('cpu')[0].permute(1,2,0))"
   ]
  },
  {
   "cell_type": "code",
   "execution_count": null,
   "metadata": {},
   "outputs": [],
   "source": [
    "with torch.no_grad():\n",
    "    plt.imshow(im_g.to('cpu')[0].permute(1,2,0))"
   ]
  },
  {
   "cell_type": "code",
   "execution_count": null,
   "metadata": {},
   "outputs": [],
   "source": [
    "# Testing out\n",
    "x = x_keep.clone().requires_grad_()"
   ]
  },
  {
   "cell_type": "code",
   "execution_count": null,
   "metadata": {},
   "outputs": [],
   "source": [
    "optimizer = torch.optim.Adam([x],lr=0.01)\n",
    "loss_list, im_g,x_out = grad_loop(im,x,bigGAN_wrapper,optimizer,n_epochs=100000)"
   ]
  },
  {
   "cell_type": "code",
   "execution_count": null,
   "metadata": {
    "scrolled": true
   },
   "outputs": [],
   "source": [
    "optimizer = torch.optim.AdamW([x],lr=.0001)\n",
    "scheduler = torch.optim.lr_scheduler.MultiStepLR(optimizer, milestones=[500,5000,50000], gamma=0.5)\n",
    "loss_list_adam, im_g_adam,x_out = grad_loop(im,x,bigGAN_wrapper,optimizer,scheduler=scheduler,n_epochs=10000)"
   ]
  },
  {
   "cell_type": "code",
   "execution_count": null,
   "metadata": {},
   "outputs": [],
   "source": [
    "plt.figure(figsize=[15,9])\n",
    "for k in loss_dict.keys():\n",
    "        plt.plot(loss_dict[k],label=str(k))\n",
    "plt.legend(loc='upper right',fontsize=15)\n",
    "plt.ylabel(\"MSE Loss per pixel\",fontsize=12)\n",
    "plt.xlabel(\"Epoch\",fontsize=12)\n",
    "plt.title(\"Learning curves for BigGAN in \\\"Coffee\\\" class\",fontsize=12)\n",
    "plt.xticks(fontsize=12)\n",
    "plt.yticks(fontsize=12)"
   ]
  },
  {
   "cell_type": "code",
   "execution_count": null,
   "metadata": {},
   "outputs": [],
   "source": [
    "print(\"Latent Norm initial: \",torch.norm(z-x_keep))\n",
    "print(\"Latent Norm final: \",torch.norm(z-x_out))"
   ]
  },
  {
   "cell_type": "code",
   "execution_count": null,
   "metadata": {},
   "outputs": [],
   "source": []
  },
  {
   "cell_type": "code",
   "execution_count": null,
   "metadata": {},
   "outputs": [],
   "source": []
  },
  {
   "cell_type": "code",
   "execution_count": null,
   "metadata": {},
   "outputs": [],
   "source": [
    "# Main test loop! \n",
    "op_list = [torch.optim.SGD,torch.optim.Adam]\n",
    "lr_list = [1e-5,1e-4,1e-3,1e-2]\n",
    "loss_dict = convergence_loop(op_list,lr_list,bigGAN_wrapper,x_keep,real_image)"
   ]
  },
  {
   "cell_type": "code",
   "execution_count": null,
   "metadata": {},
   "outputs": [],
   "source": [
    "for k in loss_dict.keys():\n",
    "    print(k,\": \",loss_dict[k][999])"
   ]
  },
  {
   "cell_type": "markdown",
   "metadata": {},
   "source": [
    "## Test on image not from Generator"
   ]
  },
  {
   "cell_type": "markdown",
   "metadata": {},
   "source": [
    "### BigGAN"
   ]
  },
  {
   "cell_type": "code",
   "execution_count": null,
   "metadata": {},
   "outputs": [],
   "source": [
    "from PIL import Image\n",
    "im = Image.open(\"koala_bear.jpg\").resize((128,128))\n",
    "real_image = (torch.Tensor(np.array(im))/128).unsqueeze(0).permute(0,3,1,2).to('cuda')"
   ]
  },
  {
   "cell_type": "code",
   "execution_count": null,
   "metadata": {},
   "outputs": [],
   "source": [
    "class_vector = one_hot_from_names(['koala'], batch_size=1)\n",
    "class_vector = torch.from_numpy(class_vector)\n",
    "class_vector = class_vector.to('cuda')"
   ]
  },
  {
   "cell_type": "code",
   "execution_count": null,
   "metadata": {},
   "outputs": [],
   "source": [
    "# Initialize random vector\n",
    "x_keep = truncated_noise_sample(truncation=truncation, batch_size=1)\n",
    "# All in tensors\n",
    "x_keep = torch.from_numpy(x_keep).to('cuda')\n",
    "# Testing out\n",
    "x = x_keep.clone().requires_grad_()"
   ]
  },
  {
   "cell_type": "code",
   "execution_count": null,
   "metadata": {},
   "outputs": [],
   "source": [
    "# Main test loop! \n",
    "op_list = [torch.optim.SGD,torch.optim.Adam]\n",
    "# op_list = [torch.optim.Adam]\n",
    "lr_list = [1e-4,1e-3,1e-2]\n",
    "loss_dict = convergence_loop(op_list,lr_list,bigGAN_wrapper,x_keep,real_image)"
   ]
  },
  {
   "cell_type": "code",
   "execution_count": null,
   "metadata": {},
   "outputs": [],
   "source": [
    "loss_dict"
   ]
  },
  {
   "cell_type": "code",
   "execution_count": null,
   "metadata": {},
   "outputs": [],
   "source": []
  },
  {
   "cell_type": "code",
   "execution_count": null,
   "metadata": {},
   "outputs": [],
   "source": [
    "for k in loss_dict.keys():\n",
    "    print(k,\": \",loss_dict[k][-1])"
   ]
  },
  {
   "cell_type": "code",
   "execution_count": null,
   "metadata": {},
   "outputs": [],
   "source": [
    "optimizer = torch.optim.Adam([x],lr=0.01)\n",
    "scheduler = torch.optim.lr_scheduler.MultiStepLR(optimizer, milestones=[500,5000,8000], gamma=0.5)\n",
    "loss_list_adam, im_g_adam, x_out = grad_loop(real_image,x,bigGAN_wrapper,optimizer,scheduler=scheduler,n_epochs=5000)"
   ]
  },
  {
   "cell_type": "code",
   "execution_count": null,
   "metadata": {},
   "outputs": [],
   "source": [
    "with torch.no_grad():\n",
    "    im_first = model(x_keep,class_vector,truncation).to('cpu')[0].permute(1,2,0)\n",
    "    im_first = im_first *0.5+0.5\n",
    "    plt.imshow(im_first)"
   ]
  },
  {
   "cell_type": "code",
   "execution_count": null,
   "metadata": {},
   "outputs": [],
   "source": [
    "real_image = real_image*0.5 + 0.5\n",
    "plt.imshow(real_image.to('cpu').detach()[0].permute(1,2,0))"
   ]
  },
  {
   "cell_type": "code",
   "execution_count": null,
   "metadata": {},
   "outputs": [],
   "source": [
    "plt.imshow(im_g_adam.to('cpu').detach()[0].permute(1,2,0))"
   ]
  },
  {
   "cell_type": "code",
   "execution_count": null,
   "metadata": {},
   "outputs": [],
   "source": [
    "# Shift the image from [-1,1] to [0,1]\n",
    "im_g = bigGAN_wrapper(x,class_vector=class_vector,model=model)\n",
    "im_g_norm = im_g/2 + 1/2\n",
    "plt.imshow(im_g_norm[0].detach().to('cpu').permute(1,2,0))\n",
    "plt.imshow((real_image[0]).to('cpu').permute(1,2,0))"
   ]
  },
  {
   "cell_type": "markdown",
   "metadata": {},
   "source": [
    "### DCGAN"
   ]
  },
  {
   "cell_type": "markdown",
   "metadata": {},
   "source": [
    "#### CIFAR10"
   ]
  },
  {
   "cell_type": "code",
   "execution_count": null,
   "metadata": {},
   "outputs": [],
   "source": [
    "os.makedirs(\"data/mnist\", exist_ok=True)\n",
    "dataloader = torch.utils.data.DataLoader(\n",
    "    datasets.CIFAR10(\n",
    "        \"data/cifar10\",\n",
    "        train=True,\n",
    "        download=True,\n",
    "        transform=transforms.Compose(\n",
    "            [transforms.Resize(opt.img_size), transforms.ToTensor(), transforms.Normalize([0.5], [0.5])]\n",
    "        ),\n",
    "    ),\n",
    "    batch_size=opt.batch_size,\n",
    "    shuffle=True,\n",
    ")"
   ]
  },
  {
   "cell_type": "markdown",
   "metadata": {},
   "source": [
    "#### MNIST"
   ]
  },
  {
   "cell_type": "code",
   "execution_count": null,
   "metadata": {},
   "outputs": [],
   "source": [
    "# Configure data loader\n",
    "os.makedirs(\"data/mnist\", exist_ok=True)\n",
    "dataloader = torch.utils.data.DataLoader(\n",
    "    datasets.MNIST(\n",
    "        \"data/mnist\",\n",
    "        train=True,\n",
    "        download=True,\n",
    "        transform=transforms.Compose(\n",
    "            [transforms.Resize(opt.img_size), transforms.ToTensor(), transforms.Normalize([0.5], [0.5])]\n",
    "        ),\n",
    "    ),\n",
    "    batch_size=1,\n",
    "    shuffle=True,\n",
    ")"
   ]
  },
  {
   "cell_type": "markdown",
   "metadata": {},
   "source": [
    "#### Test"
   ]
  },
  {
   "cell_type": "code",
   "execution_count": null,
   "metadata": {},
   "outputs": [],
   "source": [
    "img_new,_ = next(iter(dataloader))"
   ]
  },
  {
   "cell_type": "code",
   "execution_count": null,
   "metadata": {},
   "outputs": [],
   "source": [
    "# Initialize random vector\n",
    "x_keep = Variable(Tensor(np.random.normal(0, 1, (1, opt.latent_dim))))\n",
    "x = x_keep.clone().requires_grad_()\n",
    "\n",
    "# Freeze the model\n",
    "for param in generator.parameters():\n",
    "    param.requires_grad = False\n",
    "\n",
    "optimizer = torch.optim.SGD([x],lr = opt2.lr)\n",
    "# scheduler = torch.optim.lr_scheduler.MultiStepLR(optimizer, milestones=[10000,20000], gamma=0.5)"
   ]
  },
  {
   "cell_type": "code",
   "execution_count": null,
   "metadata": {},
   "outputs": [],
   "source": [
    "loss_list = []\n",
    "im_list = []\n",
    "# x_list = []\n",
    "for i in range(100):\n",
    "    x_keep = Variable(Tensor(np.random.normal(0, 1, (1, opt.latent_dim))))\n",
    "    x = x_keep.clone().requires_grad_()\n",
    "\n",
    "    optimizer = torch.optim.SGD([x],lr=0.0001)\n",
    "    scheduler = torch.optim.lr_scheduler.MultiStepLR(optimizer, milestones=[500,5000,8000], gamma=0.5)\n",
    "    ll, im_g = grad_loop(img_new.to('cuda'),x,generator,optimizer,scheduler=None,n_epochs=30000)\n",
    "    loss_list.append(ll)\n",
    "    im_list.append(im_g)\n",
    "#     x_list.append(x_g)"
   ]
  },
  {
   "cell_type": "code",
   "execution_count": null,
   "metadata": {},
   "outputs": [],
   "source": [
    "op_list = [torch.optim.SGD,torch.optim.Adam]\n",
    "lr_list = [1e-5,1e-4,1e-3,1e-2]\n",
    "loss_dict = convergence_loop(op_list,lr_list,generator,x_keep,img_new.to('cuda'))"
   ]
  },
  {
   "cell_type": "code",
   "execution_count": null,
   "metadata": {},
   "outputs": [],
   "source": [
    "plot_loss_curve(loss_dict,title='Learning curves for DCGAN on image NOT in training set')"
   ]
  },
  {
   "cell_type": "code",
   "execution_count": null,
   "metadata": {},
   "outputs": [],
   "source": [
    "z.min()"
   ]
  },
  {
   "cell_type": "code",
   "execution_count": null,
   "metadata": {},
   "outputs": [],
   "source": [
    "plot_img(im_g,True)"
   ]
  },
  {
   "cell_type": "code",
   "execution_count": null,
   "metadata": {},
   "outputs": [],
   "source": [
    "for epoch in range(opt2.n_epochs):\n",
    "    optimizer.zero_grad()\n",
    "    \n",
    "    im_g = generator(x)\n",
    "    loss = F.mse_loss(im_g,img_new,reduction = 'sum') / (im.size(0)*im.size(1))\n",
    "    loss.backward(retain_graph=True)\n",
    "    optimizer.step()\n",
    "    scheduler.step()\n",
    "    if epoch % 100 == 0:\n",
    "        print(\"Epoch {}\\tMSE Loss: {:2.4f}\".format(epoch,loss))\n",
    "    if loss < opt2.epsilon:\n",
    "        break"
   ]
  },
  {
   "cell_type": "code",
   "execution_count": null,
   "metadata": {},
   "outputs": [],
   "source": [
    "plt.imshow(img_new.detach().to('cpu')[0,0])"
   ]
  },
  {
   "cell_type": "code",
   "execution_count": null,
   "metadata": {
    "scrolled": true
   },
   "outputs": [],
   "source": [
    "plt.imshow(im_g.detach().to('cpu')[0,0])"
   ]
  },
  {
   "cell_type": "code",
   "execution_count": null,
   "metadata": {},
   "outputs": [],
   "source": []
  },
  {
   "cell_type": "markdown",
   "metadata": {},
   "source": [
    "## Training DCGAN"
   ]
  },
  {
   "cell_type": "code",
   "execution_count": null,
   "metadata": {},
   "outputs": [],
   "source": [
    "def weights_init_normal(m):\n",
    "    classname = m.__class__.__name__\n",
    "    if classname.find(\"Conv\") != -1:\n",
    "        torch.nn.init.normal_(m.weight.data, 0.0, 0.02)\n",
    "    elif classname.find(\"BatchNorm2d\") != -1:\n",
    "        torch.nn.init.normal_(m.weight.data, 1.0, 0.02)\n",
    "        torch.nn.init.constant_(m.bias.data, 0.0)\n",
    "\n",
    "\n",
    "class Generator(nn.Module):\n",
    "    def __init__(self):\n",
    "        super(Generator, self).__init__()\n",
    "\n",
    "        self.init_size = opt.img_size // 4\n",
    "        self.l1 = nn.Sequential(nn.Linear(opt.latent_dim, 128 * self.init_size ** 2))\n",
    "\n",
    "        self.conv_blocks = nn.Sequential(\n",
    "            nn.BatchNorm2d(128),\n",
    "            nn.Upsample(scale_factor=2),\n",
    "            nn.Conv2d(128, 128, 3, stride=1, padding=1),\n",
    "            nn.BatchNorm2d(128, 0.8),\n",
    "            nn.LeakyReLU(0.2, inplace=True),\n",
    "            nn.Upsample(scale_factor=2),\n",
    "            nn.Conv2d(128, 64, 3, stride=1, padding=1),\n",
    "            nn.BatchNorm2d(64, 0.8),\n",
    "            nn.LeakyReLU(0.2, inplace=True),\n",
    "            nn.Conv2d(64, opt.channels, 3, stride=1, padding=1),\n",
    "            nn.Tanh(),\n",
    "        )\n",
    "\n",
    "    def forward(self, z):\n",
    "        out = self.l1(z)\n",
    "        out = out.view(out.shape[0], 128, self.init_size, self.init_size)\n",
    "        img = self.conv_blocks(out)\n",
    "        return img\n",
    "\n",
    "\n",
    "class Discriminator(nn.Module):\n",
    "    def __init__(self):\n",
    "        super(Discriminator, self).__init__()\n",
    "\n",
    "        def discriminator_block(in_filters, out_filters, bn=True):\n",
    "            block = [nn.Conv2d(in_filters, out_filters, 3, 2, 1), nn.LeakyReLU(0.2, inplace=True), nn.Dropout2d(0.25)]\n",
    "            if bn:\n",
    "                block.append(nn.BatchNorm2d(out_filters, 0.8))\n",
    "            return block\n",
    "\n",
    "        self.model = nn.Sequential(\n",
    "            *discriminator_block(opt.channels, 16, bn=False),\n",
    "            *discriminator_block(16, 32),\n",
    "            *discriminator_block(32, 64),\n",
    "            *discriminator_block(64, 128),\n",
    "        )\n",
    "\n",
    "        # The height and width of downsampled image\n",
    "        ds_size = opt.img_size // 2 ** 4\n",
    "        self.adv_layer = nn.Sequential(nn.Linear(128 * ds_size ** 2, 1), nn.Sigmoid())\n",
    "\n",
    "    def forward(self, img):\n",
    "        out = self.model(img)\n",
    "        out = out.view(out.shape[0], -1)\n",
    "        validity = self.adv_layer(out)\n",
    "\n",
    "        return validity"
   ]
  },
  {
   "cell_type": "code",
   "execution_count": null,
   "metadata": {},
   "outputs": [],
   "source": [
    "# Loss function\n",
    "adversarial_loss = torch.nn.BCELoss()\n",
    "\n",
    "# Initialize generator and discriminator\n",
    "generator = Generator()\n",
    "discriminator = Discriminator()\n",
    "\n",
    "if cuda:\n",
    "    generator.cuda()\n",
    "    discriminator.cuda()\n",
    "    adversarial_loss.cuda()\n",
    "\n",
    "# Initialize weights\n",
    "generator.apply(weights_init_normal)\n",
    "discriminator.apply(weights_init_normal)\n",
    "\n",
    "# Configure data loader\n",
    "os.makedirs(\"data/mnist\", exist_ok=True)\n",
    "dataloader = torch.utils.data.DataLoader(\n",
    "    datasets.CIFAR10(\n",
    "        \"data/cifar10\",\n",
    "        train=True,\n",
    "        download=True,\n",
    "        transform=transforms.Compose(\n",
    "            [transforms.Resize(opt.img_size), transforms.ToTensor(), transforms.Normalize([0.5], [0.5])]\n",
    "        ),\n",
    "    ),\n",
    "    batch_size=opt.batch_size,\n",
    "    shuffle=True,\n",
    ")\n",
    "# MNIST\n",
    "# # Configure data loader\n",
    "# os.makedirs(\"data/mnist\", exist_ok=True)\n",
    "# dataloader = torch.utils.data.DataLoader(\n",
    "#     datasets.MNIST(\n",
    "#         \"data/mnist\",\n",
    "#         train=True,\n",
    "#         download=True,\n",
    "#         transform=transforms.Compose(\n",
    "#             [transforms.Resize(opt.img_size), transforms.ToTensor(), transforms.Normalize([0.5], [0.5])]\n",
    "#         ),\n",
    "#     ),\n",
    "#     batch_size=opt.batch_size,\n",
    "#     shuffle=True,\n",
    "# )\n",
    "# Optimizers\n",
    "optimizer_G = torch.optim.Adam(generator.parameters(), lr=opt.lr, betas=(opt.b1, opt.b2))\n",
    "optimizer_D = torch.optim.Adam(discriminator.parameters(), lr=opt.lr, betas=(opt.b1, opt.b2))\n",
    "\n",
    "Tensor = torch.cuda.FloatTensor if cuda else torch.FloatTensor"
   ]
  },
  {
   "cell_type": "code",
   "execution_count": null,
   "metadata": {},
   "outputs": [],
   "source": [
    "for epoch in range(opt.n_epochs):\n",
    "    for i, (imgs, _) in enumerate(dataloader):\n",
    "\n",
    "        # Adversarial ground truths\n",
    "        valid = Variable(Tensor(imgs.shape[0], 1).fill_(1.0), requires_grad=False)\n",
    "        fake = Variable(Tensor(imgs.shape[0], 1).fill_(0.0), requires_grad=False)\n",
    "\n",
    "        # Configure input\n",
    "        real_imgs = Variable(imgs.type(Tensor))\n",
    "\n",
    "        # -----------------\n",
    "        #  Train Generator\n",
    "        # -----------------\n",
    "\n",
    "        optimizer_G.zero_grad()\n",
    "\n",
    "        # Sample noise as generator input\n",
    "        z = Variable(Tensor(np.random.normal(0, 1, (imgs.shape[0], opt.latent_dim))))\n",
    "\n",
    "        # Generate a batch of images\n",
    "        gen_imgs = generator(z)\n",
    "\n",
    "        # Loss measures generator's ability to fool the discriminator\n",
    "        g_loss = adversarial_loss(discriminator(gen_imgs), valid)\n",
    "\n",
    "        g_loss.backward()\n",
    "        optimizer_G.step()\n",
    "\n",
    "        # ---------------------\n",
    "        #  Train Discriminator\n",
    "        # ---------------------\n",
    "\n",
    "        optimizer_D.zero_grad()\n",
    "\n",
    "        # Measure discriminator's ability to classify real from generated samples\n",
    "        real_loss = adversarial_loss(discriminator(real_imgs), valid)\n",
    "        fake_loss = adversarial_loss(discriminator(gen_imgs.detach()), fake)\n",
    "        d_loss = (real_loss + fake_loss) / 2\n",
    "\n",
    "        d_loss.backward()\n",
    "        optimizer_D.step()\n",
    "\n",
    "        print(\n",
    "            \"[Epoch %d/%d] [Batch %d/%d] [D loss: %f] [G loss: %f]\"\n",
    "            % (epoch, opt.n_epochs, i, len(dataloader), d_loss.item(), g_loss.item())\n",
    "        )\n",
    "\n",
    "        batches_done = epoch * len(dataloader) + i\n",
    "        if batches_done % opt.sample_interval == 0:\n",
    "            save_image(gen_imgs.data[:25], \"images/%d.png\" % batches_done, nrow=5, normalize=True)\n"
   ]
  },
  {
   "cell_type": "code",
   "execution_count": null,
   "metadata": {},
   "outputs": [],
   "source": [
    "imgs.shape"
   ]
  },
  {
   "cell_type": "code",
   "execution_count": null,
   "metadata": {},
   "outputs": [],
   "source": [
    "imgs = imgs*0.5 + 0.5\n",
    "plt.imshow(imgs[0,:,:,:].detach().to('cpu').permute(1,2,0))"
   ]
  },
  {
   "cell_type": "code",
   "execution_count": null,
   "metadata": {},
   "outputs": [],
   "source": [
    "z = Variable(Tensor(np.random.normal(0, 1, (imgs.shape[0], opt.latent_dim))))\n",
    "im_g = generator(z)\n",
    "im_g = im_g*0.5 + 0.5\n",
    "plt.imshow(im_g[0,:,:,:].detach().to('cpu').permute(1,2,0))"
   ]
  },
  {
   "cell_type": "code",
   "execution_count": null,
   "metadata": {},
   "outputs": [],
   "source": [
    "z"
   ]
  },
  {
   "cell_type": "code",
   "execution_count": null,
   "metadata": {},
   "outputs": [],
   "source": [
    "# Saving model\n",
    "MODEL_PATH = \"models/dcgan/generator_cifar10.pth\"\n",
    "torch.save(generator.state_dict(), MODEL_PATH)"
   ]
  },
  {
   "cell_type": "code",
   "execution_count": null,
   "metadata": {},
   "outputs": [],
   "source": []
  }
 ],
 "metadata": {
  "kernelspec": {
   "display_name": "Python 3",
   "language": "python",
   "name": "python3"
  },
  "language_info": {
   "codemirror_mode": {
    "name": "ipython",
    "version": 3
   },
   "file_extension": ".py",
   "mimetype": "text/x-python",
   "name": "python",
   "nbconvert_exporter": "python",
   "pygments_lexer": "ipython3",
   "version": "3.6.9"
  }
 },
 "nbformat": 4,
 "nbformat_minor": 2
}
